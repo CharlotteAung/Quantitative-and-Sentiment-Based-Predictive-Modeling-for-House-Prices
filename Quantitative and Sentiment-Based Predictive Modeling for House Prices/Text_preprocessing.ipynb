{
 "cells": [
  {
   "cell_type": "markdown",
   "metadata": {},
   "source": [
    "## Text Preprocessing\n",
    "In this section, we preprocess the text data by normalizing it, removing stopwords, and lemmatizing the words. These steps help clean the text and prepare it for feature extraction."
   ]
  },
  {
   "cell_type": "code",
   "execution_count": 159,
   "metadata": {},
   "outputs": [
    {
     "name": "stderr",
     "output_type": "stream",
     "text": [
      "[nltk_data] Downloading package stopwords to\n",
      "[nltk_data]     /Users/phyuphyuaung/nltk_data...\n",
      "[nltk_data]   Package stopwords is already up-to-date!\n"
     ]
    },
    {
     "data": {
      "text/plain": [
       "True"
      ]
     },
     "execution_count": 159,
     "metadata": {},
     "output_type": "execute_result"
    }
   ],
   "source": [
    "# Importing necessary libraries\n",
    "import pandas as pd\n",
    "import string\n",
    "import re\n",
    "from nltk.corpus import stopwords\n",
    "from nltk.stem import WordNetLemmatizer\n",
    "from sklearn.feature_extraction.text import TfidfVectorizer\n",
    "import nltk\n",
    "\n",
    "# Download the stopwords\n",
    "nltk.download('stopwords')"
   ]
  },
  {
   "cell_type": "markdown",
   "metadata": {},
   "source": [
    "### Importing Necessary Libraries\n",
    "We begin by importing essential libraries for text preprocessing. This includes libraries for handling text data (Pandas), removing punctuation and numbers (string, re), stopword removal (NLTK), and lemmatization (WordNetLemmatizer)."
   ]
  },
  {
   "cell_type": "code",
   "execution_count": 160,
   "metadata": {},
   "outputs": [
    {
     "data": {
      "text/html": [
       "<div>\n",
       "<style scoped>\n",
       "    .dataframe tbody tr th:only-of-type {\n",
       "        vertical-align: middle;\n",
       "    }\n",
       "\n",
       "    .dataframe tbody tr th {\n",
       "        vertical-align: top;\n",
       "    }\n",
       "\n",
       "    .dataframe thead th {\n",
       "        text-align: right;\n",
       "    }\n",
       "</style>\n",
       "<table border=\"1\" class=\"dataframe\">\n",
       "  <thead>\n",
       "    <tr style=\"text-align: right;\">\n",
       "      <th></th>\n",
       "      <th>text</th>\n",
       "      <th>area</th>\n",
       "    </tr>\n",
       "  </thead>\n",
       "  <tbody>\n",
       "    <tr>\n",
       "      <th>0</th>\n",
       "      <td>I love Al Mike's. The restaurant is hidden in ...</td>\n",
       "      <td>london</td>\n",
       "    </tr>\n",
       "    <tr>\n",
       "      <th>1</th>\n",
       "      <td>Love this place for its micro beers and spicy ...</td>\n",
       "      <td>london</td>\n",
       "    </tr>\n",
       "    <tr>\n",
       "      <th>2</th>\n",
       "      <td>Went for dinner and really enjoyed it.  It was...</td>\n",
       "      <td>london</td>\n",
       "    </tr>\n",
       "    <tr>\n",
       "      <th>3</th>\n",
       "      <td>I haven't been to this place  in a VERY LONG t...</td>\n",
       "      <td>london</td>\n",
       "    </tr>\n",
       "    <tr>\n",
       "      <th>4</th>\n",
       "      <td>Brevard Court is good for an inexpensive lunch...</td>\n",
       "      <td>london</td>\n",
       "    </tr>\n",
       "  </tbody>\n",
       "</table>\n",
       "</div>"
      ],
      "text/plain": [
       "                                                text    area\n",
       "0  I love Al Mike's. The restaurant is hidden in ...  london\n",
       "1  Love this place for its micro beers and spicy ...  london\n",
       "2  Went for dinner and really enjoyed it.  It was...  london\n",
       "3  I haven't been to this place  in a VERY LONG t...  london\n",
       "4  Brevard Court is good for an inexpensive lunch...  london"
      ]
     },
     "execution_count": 160,
     "metadata": {},
     "output_type": "execute_result"
    }
   ],
   "source": [
    "# Load dataset\n",
    "data = pd.read_csv('london_text_data.csv')\n",
    "\n",
    "# Display the first few rows of the dataset\n",
    "data.head()"
   ]
  },
  {
   "cell_type": "markdown",
   "metadata": {},
   "source": [
    "### Loading the Data\n",
    "The dataset is loaded using Pandas. We assume the dataset is in CSV format and contains a column named 'text' that holds the text data to be preprocessed."
   ]
  },
  {
   "cell_type": "code",
   "execution_count": 161,
   "metadata": {},
   "outputs": [],
   "source": [
    "# Normalize text\n",
    "def normalize_text(text):\n",
    "    \"\"\"\n",
    "    Normalizes the input text by converting to lowercase, removing punctuation, URLs, and numbers.\n",
    "    \"\"\"\n",
    "    # Convert to lowercase\n",
    "    text = text.lower()\n",
    "    # Remove punctuation\n",
    "    text = text.translate(str.maketrans('', '', string.punctuation))\n",
    "    # Remove URLs\n",
    "    text = re.sub(r'http\\S+', '', text)\n",
    "    # Remove numbers\n",
    "    text = re.sub(r'\\d+', '', text)\n",
    "    return text\n",
    "\n",
    "# Apply normalization\n",
    "data['clean_text'] = data['text'].apply(normalize_text)"
   ]
  },
  {
   "cell_type": "markdown",
   "metadata": {},
   "source": [
    "### Normalization\n",
    "Text normalization is performed to standardize the input data. This function converts all text to lowercase, removes punctuation, URLs, and numbers. This is an essential step in preparing the text for further analysis."
   ]
  },
  {
   "cell_type": "code",
   "execution_count": 162,
   "metadata": {},
   "outputs": [],
   "source": [
    "# Remove stopwords\n",
    "stop_words = set(stopwords.words('english'))\n",
    "data['clean_text'] = data['clean_text'].apply(lambda x: ' '.join([word for word in x.split() if word not in stop_words]))"
   ]
  },
  {
   "cell_type": "markdown",
   "metadata": {},
   "source": [
    "### Removing Stopwords\n",
    "Stopwords are common words that often do not contribute significant meaning to text analysis. Removing these words helps reduce noise in the data and improves the quality of features extracted during vectorization."
   ]
  },
  {
   "cell_type": "code",
   "execution_count": 163,
   "metadata": {},
   "outputs": [],
   "source": [
    "# Lemmatization\n",
    "lemmatizer = WordNetLemmatizer()\n",
    "data['clean_text'] = data['clean_text'].apply(lambda x: ' '.join([lemmatizer.lemmatize(word) for word in x.split()]))"
   ]
  },
  {
   "cell_type": "markdown",
   "metadata": {},
   "source": [
    "### Lemmatization\n",
    "Lemmatization reduces words to their base or root form, which ensures that different forms of a word are analyzed as the same entity. This step is crucial for reducing variability in the data."
   ]
  },
  {
   "cell_type": "code",
   "execution_count": 164,
   "metadata": {},
   "outputs": [],
   "source": [
    "# Handle missing values and duplicates\n",
    "data.dropna(inplace=True)\n",
    "data.drop_duplicates(inplace=True)"
   ]
  },
  {
   "cell_type": "markdown",
   "metadata": {},
   "source": [
    "### Handling Missing Values and Duplicates\n",
    "To ensure data quality, rows with missing values are removed, and duplicate rows are dropped. This step is crucial to prevent biases and errors in the analysis."
   ]
  },
  {
   "cell_type": "code",
   "execution_count": 165,
   "metadata": {},
   "outputs": [
    {
     "data": {
      "text/html": [
       "<div>\n",
       "<style scoped>\n",
       "    .dataframe tbody tr th:only-of-type {\n",
       "        vertical-align: middle;\n",
       "    }\n",
       "\n",
       "    .dataframe tbody tr th {\n",
       "        vertical-align: top;\n",
       "    }\n",
       "\n",
       "    .dataframe thead th {\n",
       "        text-align: right;\n",
       "    }\n",
       "</style>\n",
       "<table border=\"1\" class=\"dataframe\">\n",
       "  <thead>\n",
       "    <tr style=\"text-align: right;\">\n",
       "      <th></th>\n",
       "      <th>text</th>\n",
       "      <th>area</th>\n",
       "      <th>clean_text</th>\n",
       "    </tr>\n",
       "  </thead>\n",
       "  <tbody>\n",
       "    <tr>\n",
       "      <th>0</th>\n",
       "      <td>I love Al Mike's. The restaurant is hidden in ...</td>\n",
       "      <td>london</td>\n",
       "      <td>love al mike restaurant hidden beautiful first...</td>\n",
       "    </tr>\n",
       "    <tr>\n",
       "      <th>1</th>\n",
       "      <td>Love this place for its micro beers and spicy ...</td>\n",
       "      <td>london</td>\n",
       "      <td>love place micro beer spicy crab soup london b...</td>\n",
       "    </tr>\n",
       "    <tr>\n",
       "      <th>2</th>\n",
       "      <td>Went for dinner and really enjoyed it.  It was...</td>\n",
       "      <td>london</td>\n",
       "      <td>went dinner really enjoyed thursday night plac...</td>\n",
       "    </tr>\n",
       "    <tr>\n",
       "      <th>3</th>\n",
       "      <td>I haven't been to this place  in a VERY LONG t...</td>\n",
       "      <td>london</td>\n",
       "      <td>havent place long time year ago regular spot r...</td>\n",
       "    </tr>\n",
       "    <tr>\n",
       "      <th>4</th>\n",
       "      <td>Brevard Court is good for an inexpensive lunch...</td>\n",
       "      <td>london</td>\n",
       "      <td>brevard court good inexpensive lunch nothing f...</td>\n",
       "    </tr>\n",
       "  </tbody>\n",
       "</table>\n",
       "</div>"
      ],
      "text/plain": [
       "                                                text    area  \\\n",
       "0  I love Al Mike's. The restaurant is hidden in ...  london   \n",
       "1  Love this place for its micro beers and spicy ...  london   \n",
       "2  Went for dinner and really enjoyed it.  It was...  london   \n",
       "3  I haven't been to this place  in a VERY LONG t...  london   \n",
       "4  Brevard Court is good for an inexpensive lunch...  london   \n",
       "\n",
       "                                          clean_text  \n",
       "0  love al mike restaurant hidden beautiful first...  \n",
       "1  love place micro beer spicy crab soup london b...  \n",
       "2  went dinner really enjoyed thursday night plac...  \n",
       "3  havent place long time year ago regular spot r...  \n",
       "4  brevard court good inexpensive lunch nothing f...  "
      ]
     },
     "execution_count": 165,
     "metadata": {},
     "output_type": "execute_result"
    }
   ],
   "source": [
    "# Display cleaned data\n",
    "data.head()\n",
    "\n",
    "# Save cleaned data if needed\n",
    "# data.to_csv('cleaned_london_text_data.csv', index=False)  # Uncomment to save the cleaned data"
   ]
  },
  {
   "cell_type": "markdown",
   "metadata": {},
   "source": [
    "## Feature Extraction\n",
    "In this section, we convert the preprocessed text data into numerical features using TF-IDF vectorization. This step is essential for preparing the data for machine learning models."
   ]
  },
  {
   "cell_type": "code",
   "execution_count": 166,
   "metadata": {},
   "outputs": [],
   "source": [
    "# Vectorization using TF-IDF\n",
    "vectorizer = TfidfVectorizer(max_features=5000)\n",
    "X = vectorizer.fit_transform(data['clean_text'])"
   ]
  },
  {
   "cell_type": "markdown",
   "metadata": {},
   "source": [
    "### TF-IDF Vectorization\n",
    "TF-IDF (Term Frequency-Inverse Document Frequency) is used to convert the cleaned text into numerical features. By limiting the number of features to 5000, we reduce dimensionality while keeping the most significant terms."
   ]
  },
  {
   "cell_type": "code",
   "execution_count": 167,
   "metadata": {},
   "outputs": [
    {
     "name": "stdout",
     "output_type": "stream",
     "text": [
      "TF-IDF matrix shape: (217, 5000)\n"
     ]
    }
   ],
   "source": [
    "# Display the shape of the TF-IDF matrix\n",
    "print(\"TF-IDF matrix shape:\", X.shape)\n",
    "\n",
    "# (Optional) Save the TF-IDF matrix if needed\n",
    "# pd.DataFrame(X.toarray(), columns=vectorizer.get_feature_names_out()).to_csv('tfidf_features.csv', index=False)"
   ]
  },
  {
   "cell_type": "markdown",
   "metadata": {},
   "source": [
    "## Integrating Area Data with Preprocessed Text Data\n",
    "In this section, we integrate area information into the preprocessed text dataset. We ensure consistency between the area names in the area dataset and the preprocessed text data, then assign area names to the text data."
   ]
  },
  {
   "cell_type": "code",
   "execution_count": 168,
   "metadata": {},
   "outputs": [],
   "source": [
    "\n",
    "import random"
   ]
  },
  {
   "cell_type": "markdown",
   "metadata": {},
   "source": [
    "### Importing Necessary Libraries\n",
    "We import Pandas for data manipulation and Random for assigning area names randomly to the text data."
   ]
  },
  {
   "cell_type": "code",
   "execution_count": 169,
   "metadata": {},
   "outputs": [],
   "source": [
    "# Load the area dataset\n",
    "london_area = pd.read_csv('london_area.csv')\n"
   ]
  },
  {
   "cell_type": "markdown",
   "metadata": {},
   "source": [
    "### Loading the Area Dataset\n",
    "We load the dataset containing area information (`london_area.csv`). This dataset will be used to assign area names to the preprocessed text data."
   ]
  },
  {
   "cell_type": "code",
   "execution_count": 170,
   "metadata": {},
   "outputs": [],
   "source": [
    "# Ensure the area column is consistent in the area dataset\n",
    "london_area['area'] = london_area['area'].str.lower()\n",
    "\n",
    "# Ensure the area column is present in the preprocessed text data\n",
    "if 'area' not in data.columns:\n",
    "    data['area'] = ''  # Initialize an empty column if not present\n",
    "\n",
    "# Convert the area column in preprocessed text data to lowercase\n",
    "data['area'] = data['area'].str.lower()\n"
   ]
  },
  {
   "cell_type": "markdown",
   "metadata": {},
   "source": [
    "### Ensuring Consistency in Area Names\n",
    "To avoid mismatches due to case sensitivity, we convert all area names to lowercase in both the area dataset and the preprocessed text data. This ensures that the area names are consistent and can be accurately assigned."
   ]
  },
  {
   "cell_type": "code",
   "execution_count": 171,
   "metadata": {},
   "outputs": [],
   "source": [
    "# List of unique areas\n",
    "unique_areas = london_area['area'].unique()\n",
    "\n",
    "# Randomly assign areas to the preprocessed text dataset\n",
    "data['area'] = [random.choice(unique_areas) for _ in range(len(data))]\n"
   ]
  },
  {
   "cell_type": "markdown",
   "metadata": {},
   "source": [
    "### Assigning Areas to the Preprocessed Text Dataset\n",
    "We extract the unique area names from the area dataset and then randomly assign these areas to the preprocessed text data. This step ensures that each text entry is associated with a random area from the list.\n"
   ]
  },
  {
   "cell_type": "code",
   "execution_count": 172,
   "metadata": {},
   "outputs": [
    {
     "data": {
      "text/html": [
       "<div>\n",
       "<style scoped>\n",
       "    .dataframe tbody tr th:only-of-type {\n",
       "        vertical-align: middle;\n",
       "    }\n",
       "\n",
       "    .dataframe tbody tr th {\n",
       "        vertical-align: top;\n",
       "    }\n",
       "\n",
       "    .dataframe thead th {\n",
       "        text-align: right;\n",
       "    }\n",
       "</style>\n",
       "<table border=\"1\" class=\"dataframe\">\n",
       "  <thead>\n",
       "    <tr style=\"text-align: right;\">\n",
       "      <th></th>\n",
       "      <th>text</th>\n",
       "      <th>area</th>\n",
       "      <th>clean_text</th>\n",
       "    </tr>\n",
       "  </thead>\n",
       "  <tbody>\n",
       "    <tr>\n",
       "      <th>0</th>\n",
       "      <td>I love Al Mike's. The restaurant is hidden in ...</td>\n",
       "      <td>harrow</td>\n",
       "      <td>love al mike restaurant hidden beautiful first...</td>\n",
       "    </tr>\n",
       "    <tr>\n",
       "      <th>1</th>\n",
       "      <td>Love this place for its micro beers and spicy ...</td>\n",
       "      <td>hammersmith and fulham</td>\n",
       "      <td>love place micro beer spicy crab soup london b...</td>\n",
       "    </tr>\n",
       "    <tr>\n",
       "      <th>2</th>\n",
       "      <td>Went for dinner and really enjoyed it.  It was...</td>\n",
       "      <td>ealing</td>\n",
       "      <td>went dinner really enjoyed thursday night plac...</td>\n",
       "    </tr>\n",
       "    <tr>\n",
       "      <th>3</th>\n",
       "      <td>I haven't been to this place  in a VERY LONG t...</td>\n",
       "      <td>bromley</td>\n",
       "      <td>havent place long time year ago regular spot r...</td>\n",
       "    </tr>\n",
       "    <tr>\n",
       "      <th>4</th>\n",
       "      <td>Brevard Court is good for an inexpensive lunch...</td>\n",
       "      <td>harrow</td>\n",
       "      <td>brevard court good inexpensive lunch nothing f...</td>\n",
       "    </tr>\n",
       "  </tbody>\n",
       "</table>\n",
       "</div>"
      ],
      "text/plain": [
       "                                                text                    area  \\\n",
       "0  I love Al Mike's. The restaurant is hidden in ...                  harrow   \n",
       "1  Love this place for its micro beers and spicy ...  hammersmith and fulham   \n",
       "2  Went for dinner and really enjoyed it.  It was...                  ealing   \n",
       "3  I haven't been to this place  in a VERY LONG t...                 bromley   \n",
       "4  Brevard Court is good for an inexpensive lunch...                  harrow   \n",
       "\n",
       "                                          clean_text  \n",
       "0  love al mike restaurant hidden beautiful first...  \n",
       "1  love place micro beer spicy crab soup london b...  \n",
       "2  went dinner really enjoyed thursday night plac...  \n",
       "3  havent place long time year ago regular spot r...  \n",
       "4  brevard court good inexpensive lunch nothing f...  "
      ]
     },
     "execution_count": 172,
     "metadata": {},
     "output_type": "execute_result"
    }
   ],
   "source": [
    "# Save the updated dataset with area information\n",
    "data.to_csv('london_text_area.csv', index=False)\n",
    "\n",
    "# Display the first few rows of the updated dataset\n",
    "data.head()\n"
   ]
  },
  {
   "cell_type": "markdown",
   "metadata": {},
   "source": [
    "## Data Augmentation with Area Information\n",
    "In this section, we augment the text data by appending area information to each text entry. We also replicate the dataset to ensure a sufficient number of samples for further analysis.\n"
   ]
  },
  {
   "cell_type": "code",
   "execution_count": 173,
   "metadata": {},
   "outputs": [],
   "source": [
    "# Importing necessary libraries\n",
    "import pandas as pd\n",
    "import random\n"
   ]
  },
  {
   "cell_type": "markdown",
   "metadata": {},
   "source": [
    "### Importing Necessary Libraries\n",
    "We import Pandas for data manipulation and Random for generating area assignments during the data augmentation process.\n"
   ]
  },
  {
   "cell_type": "code",
   "execution_count": 174,
   "metadata": {},
   "outputs": [],
   "source": [
    "# Function to augment text with area information\n",
    "def augment_text_with_area(text, area):\n",
    "    \"\"\"\n",
    "    Augments the given text by appending information about the area.\n",
    "    \"\"\"\n",
    "    return f\"{text} This review is about the {area} area.\"\n",
    "\n",
    "# Apply the function to the preprocessed and integrated dataset\n",
    "data['augmented_text'] = data.apply(lambda row: augment_text_with_area(row['clean_text'], row['area']), axis=1)\n"
   ]
  },
  {
   "cell_type": "markdown",
   "metadata": {},
   "source": [
    "### Augmenting Text Data with Area Information\n",
    "We define a function to append area information to each text entry. This augmented text helps provide context for the text data by linking it explicitly to the area being discussed. The function is then applied to each row in the dataset.\n"
   ]
  },
  {
   "cell_type": "code",
   "execution_count": 175,
   "metadata": {},
   "outputs": [],
   "source": [
    "# Create an empty DataFrame to store augmented data\n",
    "augmented_data = pd.DataFrame()\n",
    "\n",
    "# Replicate and augment the dataset\n",
    "num_replications = (1000 // len(data)) + 1\n",
    "for _ in range(num_replications):\n",
    "    temp_data = data.copy()\n",
    "    temp_data['area'] = [random.choice(unique_areas) for _ in range(len(temp_data))]\n",
    "    temp_data['augmented_text'] = temp_data.apply(\n",
    "        lambda row: augment_text_with_area(row['clean_text'], row['area']), axis=1)\n",
    "    augmented_data = pd.concat([augmented_data, temp_data], ignore_index=True)\n",
    "\n",
    "# Ensure we have exactly 1000 rows in the final augmented dataset\n",
    "augmented_data = augmented_data.head(1000)\n"
   ]
  },
  {
   "cell_type": "markdown",
   "metadata": {},
   "source": [
    "### Data Replication for Augmentation\n",
    "To ensure a sufficient number of samples, we replicate the dataset multiple times, each time reassigning area information randomly. This helps create a more diverse dataset by varying the area context within the text entries. We then trim the augmented dataset to 1000 rows to meet the desired sample size.\n"
   ]
  },
  {
   "cell_type": "code",
   "execution_count": 176,
   "metadata": {},
   "outputs": [
    {
     "data": {
      "text/html": [
       "<div>\n",
       "<style scoped>\n",
       "    .dataframe tbody tr th:only-of-type {\n",
       "        vertical-align: middle;\n",
       "    }\n",
       "\n",
       "    .dataframe tbody tr th {\n",
       "        vertical-align: top;\n",
       "    }\n",
       "\n",
       "    .dataframe thead th {\n",
       "        text-align: right;\n",
       "    }\n",
       "</style>\n",
       "<table border=\"1\" class=\"dataframe\">\n",
       "  <thead>\n",
       "    <tr style=\"text-align: right;\">\n",
       "      <th></th>\n",
       "      <th>text</th>\n",
       "      <th>area</th>\n",
       "      <th>clean_text</th>\n",
       "      <th>augmented_text</th>\n",
       "    </tr>\n",
       "  </thead>\n",
       "  <tbody>\n",
       "    <tr>\n",
       "      <th>0</th>\n",
       "      <td>I love Al Mike's. The restaurant is hidden in ...</td>\n",
       "      <td>city of london</td>\n",
       "      <td>love al mike restaurant hidden beautiful first...</td>\n",
       "      <td>love al mike restaurant hidden beautiful first...</td>\n",
       "    </tr>\n",
       "    <tr>\n",
       "      <th>1</th>\n",
       "      <td>Love this place for its micro beers and spicy ...</td>\n",
       "      <td>hackney</td>\n",
       "      <td>love place micro beer spicy crab soup london b...</td>\n",
       "      <td>love place micro beer spicy crab soup london b...</td>\n",
       "    </tr>\n",
       "    <tr>\n",
       "      <th>2</th>\n",
       "      <td>Went for dinner and really enjoyed it.  It was...</td>\n",
       "      <td>merton</td>\n",
       "      <td>went dinner really enjoyed thursday night plac...</td>\n",
       "      <td>went dinner really enjoyed thursday night plac...</td>\n",
       "    </tr>\n",
       "    <tr>\n",
       "      <th>3</th>\n",
       "      <td>I haven't been to this place  in a VERY LONG t...</td>\n",
       "      <td>camden</td>\n",
       "      <td>havent place long time year ago regular spot r...</td>\n",
       "      <td>havent place long time year ago regular spot r...</td>\n",
       "    </tr>\n",
       "    <tr>\n",
       "      <th>4</th>\n",
       "      <td>Brevard Court is good for an inexpensive lunch...</td>\n",
       "      <td>ealing</td>\n",
       "      <td>brevard court good inexpensive lunch nothing f...</td>\n",
       "      <td>brevard court good inexpensive lunch nothing f...</td>\n",
       "    </tr>\n",
       "  </tbody>\n",
       "</table>\n",
       "</div>"
      ],
      "text/plain": [
       "                                                text            area  \\\n",
       "0  I love Al Mike's. The restaurant is hidden in ...  city of london   \n",
       "1  Love this place for its micro beers and spicy ...         hackney   \n",
       "2  Went for dinner and really enjoyed it.  It was...          merton   \n",
       "3  I haven't been to this place  in a VERY LONG t...          camden   \n",
       "4  Brevard Court is good for an inexpensive lunch...          ealing   \n",
       "\n",
       "                                          clean_text  \\\n",
       "0  love al mike restaurant hidden beautiful first...   \n",
       "1  love place micro beer spicy crab soup london b...   \n",
       "2  went dinner really enjoyed thursday night plac...   \n",
       "3  havent place long time year ago regular spot r...   \n",
       "4  brevard court good inexpensive lunch nothing f...   \n",
       "\n",
       "                                      augmented_text  \n",
       "0  love al mike restaurant hidden beautiful first...  \n",
       "1  love place micro beer spicy crab soup london b...  \n",
       "2  went dinner really enjoyed thursday night plac...  \n",
       "3  havent place long time year ago regular spot r...  \n",
       "4  brevard court good inexpensive lunch nothing f...  "
      ]
     },
     "execution_count": 176,
     "metadata": {},
     "output_type": "execute_result"
    }
   ],
   "source": [
    "# Save the final augmented dataset if needed\n",
    "# augmented_data.to_csv('augmented_data.csv', index=False)  # Uncomment to save the augmented data\n",
    "\n",
    "# Display the first few rows of the augmented dataset\n",
    "augmented_data.head()\n"
   ]
  },
  {
   "cell_type": "markdown",
   "metadata": {},
   "source": [
    "## Verification of Text Augmentation\n",
    "In this section, we verify that the augmented text correctly includes the area information. We calculate the percentage of correctly augmented rows to ensure the accuracy of the data augmentation process.\n"
   ]
  },
  {
   "cell_type": "code",
   "execution_count": 177,
   "metadata": {},
   "outputs": [],
   "source": [
    "# Function to check if the area information is correctly included in the augmented text\n",
    "def check_augmentation(row):\n",
    "    \"\"\"\n",
    "    Checks if the area name is correctly included in the augmented text.\n",
    "    \"\"\"\n",
    "    area_in_text = row['area'] in row['augmented_text']\n",
    "    return area_in_text\n",
    "\n",
    "# Apply the check to each row in the augmented dataset\n",
    "augmented_data['augmentation_correct'] = augmented_data.apply(check_augmentation, axis=1)\n"
   ]
  },
  {
   "cell_type": "markdown",
   "metadata": {},
   "source": [
    "### Checking Augmentation Accuracy\n",
    "We define a function `check_augmentation` that verifies if the area name is correctly included in the augmented text. This function is applied to each row in the augmented dataset, and a new column `augmentation_correct` is created to store the result (True/False).\n"
   ]
  },
  {
   "cell_type": "code",
   "execution_count": 178,
   "metadata": {},
   "outputs": [
    {
     "name": "stdout",
     "output_type": "stream",
     "text": [
      "Correct Augmentation Percentage: 100.00%\n"
     ]
    }
   ],
   "source": [
    "# Calculate the percentage of correctly augmented rows\n",
    "correct_augmentation_percentage = augmented_data['augmentation_correct'].mean() * 100\n",
    "print(f\"Correct Augmentation Percentage: {correct_augmentation_percentage:.2f}%\")\n"
   ]
  },
  {
   "cell_type": "markdown",
   "metadata": {},
   "source": [
    "### Calculating the Accuracy of Augmentation\n",
    "The accuracy of the text augmentation is calculated by determining the percentage of rows where the area information was correctly included in the augmented text. This percentage is printed to evaluate the effectiveness of the augmentation process.\n"
   ]
  },
  {
   "cell_type": "markdown",
   "metadata": {},
   "source": [
    "## Data Analysis of Augmented Text Data\n",
    "In this section, we perform basic statistical analysis of the augmented text data. We analyze the distribution of areas, and compare the lengths of the original and augmented text entries.\n"
   ]
  },
  {
   "cell_type": "code",
   "execution_count": 179,
   "metadata": {},
   "outputs": [],
   "source": [
    "# Importing necessary libraries\n",
    "import matplotlib.pyplot as plt\n"
   ]
  },
  {
   "cell_type": "markdown",
   "metadata": {},
   "source": [
    "### Importing Necessary Libraries\n",
    "We import Matplotlib for plotting graphs to visualize the distribution of areas and the text length distributions.\n"
   ]
  },
  {
   "cell_type": "code",
   "execution_count": 180,
   "metadata": {},
   "outputs": [
    {
     "name": "stdout",
     "output_type": "stream",
     "text": [
      "                                                     text    area  \\\n",
      "count                                                1000    1000   \n",
      "unique                                                217      33   \n",
      "top     I love Al Mike's. The restaurant is hidden in ...  barnet   \n",
      "freq                                                    5      45   \n",
      "\n",
      "                                               clean_text  \\\n",
      "count                                                1000   \n",
      "unique                                                217   \n",
      "top     love al mike restaurant hidden beautiful first...   \n",
      "freq                                                    5   \n",
      "\n",
      "                                           augmented_text augmentation_correct  \n",
      "count                                                1000                 1000  \n",
      "unique                                                939                    1  \n",
      "top     seen phantom london new york los angeles produ...                 True  \n",
      "freq                                                    3                 1000  \n"
     ]
    }
   ],
   "source": [
    "# Display basic statistics of the augmented dataset\n",
    "print(augmented_data.describe())\n"
   ]
  },
  {
   "cell_type": "markdown",
   "metadata": {},
   "source": [
    "### Basic Statistics of the Augmented Data\n",
    "We first generate basic statistical summaries of the numerical columns in the augmented dataset. This provides an overview of the dataset, including counts, means, standard deviations, and other statistics.\n"
   ]
  },
  {
   "cell_type": "code",
   "execution_count": 181,
   "metadata": {},
   "outputs": [
    {
     "name": "stdout",
     "output_type": "stream",
     "text": [
      "barnet                    45\n",
      "lewisham                  44\n",
      "hackney                   43\n",
      "southwark                 40\n",
      "camden                    39\n",
      "haringey                  38\n",
      "brent                     37\n",
      "hillingdon                36\n",
      "wandsworth                36\n",
      "kensington and chelsea    35\n",
      "city of london            33\n",
      "westminster               30\n",
      "croydon                   30\n",
      "newham                    30\n",
      "enfield                   30\n",
      "merton                    29\n",
      "richmond upon thames      29\n",
      "sutton                    28\n",
      "tower hamlets             28\n",
      "islington                 28\n",
      "redbridge                 27\n",
      "harrow                    27\n",
      "lambeth                   27\n",
      "kingston upon thames      27\n",
      "havering                  26\n",
      "hammersmith and fulham    26\n",
      "bexley                    25\n",
      "hounslow                  25\n",
      "ealing                    23\n",
      "bromley                   22\n",
      "barking and dagenham      20\n",
      "waltham forest            19\n",
      "greenwich                 18\n",
      "Name: area, dtype: int64\n"
     ]
    },
    {
     "data": {
      "image/png": "[encoded data removed]",
      "text/plain": [
       "<Figure size 1000x600 with 1 Axes>"
      ]
     },
     "metadata": {},
     "output_type": "display_data"
    }
   ],
   "source": [
    "# Analyze the distribution of areas\n",
    "area_counts = augmented_data['area'].value_counts()\n",
    "print(area_counts)\n",
    "\n",
    "# Plot the distribution of areas\n",
    "plt.figure(figsize=(10, 6))\n",
    "area_counts.plot(kind='bar')\n",
    "plt.title('Distribution of Areas in Augmented Data')\n",
    "plt.xlabel('Area')\n",
    "plt.ylabel('Count')\n",
    "plt.show()\n"
   ]
  },
  {
   "cell_type": "markdown",
   "metadata": {},
   "source": [
    "### Distribution of Areas in the Augmented Data\n",
    "We calculate and display the distribution of area names within the augmented dataset. This is visualized using a bar chart to show how frequently each area appears in the data.\n"
   ]
  },
  {
   "cell_type": "code",
   "execution_count": 182,
   "metadata": {},
   "outputs": [
    {
     "name": "stdout",
     "output_type": "stream",
     "text": [
      "       original_text_length  augmented_text_length\n",
      "count           1000.000000             1000.00000\n",
      "mean            1080.869000              706.99700\n",
      "std              769.512381              473.68348\n",
      "min               93.000000              103.00000\n",
      "25%              536.000000              361.75000\n",
      "50%              862.000000              583.50000\n",
      "75%             1440.000000              948.25000\n",
      "max             4269.000000             2446.00000\n"
     ]
    }
   ],
   "source": [
    "# Calculate text lengths for original and augmented text\n",
    "augmented_data['original_text_length'] = augmented_data['text'].apply(len)\n",
    "augmented_data['augmented_text_length'] = augmented_data['augmented_text'].apply(len)\n",
    "\n",
    "# Display basic statistics for text lengths\n",
    "print(augmented_data[['original_text_length', 'augmented_text_length']].describe())\n"
   ]
  },
  {
   "cell_type": "markdown",
   "metadata": {},
   "source": [
    "### Analysis of Text Lengths\n",
    "We compute the length of the original and augmented text entries and display basic statistical summaries for these lengths. This analysis helps us understand the impact of augmentation on the text length.\n"
   ]
  },
  {
   "cell_type": "code",
   "execution_count": 183,
   "metadata": {},
   "outputs": [
    {
     "data": {
      "image/png": "[encoded data removed]",
      "text/plain": [
       "<Figure size 1200x600 with 2 Axes>"
      ]
     },
     "metadata": {},
     "output_type": "display_data"
    }
   ],
   "source": [
    "# Plot text length distributions\n",
    "plt.figure(figsize=(12, 6))\n",
    "\n",
    "plt.subplot(1, 2, 1)\n",
    "augmented_data['original_text_length'].hist(bins=30)\n",
    "plt.title('Original Text Length Distribution')\n",
    "\n",
    "plt.subplot(1, 2, 2)\n",
    "augmented_data['augmented_text_length'].hist(bins=30)\n",
    "plt.title('Augmented Text Length Distribution')\n",
    "\n",
    "plt.show()\n"
   ]
  },
  {
   "cell_type": "markdown",
   "metadata": {},
   "source": [
    "### Plotting Text Length Distributions\n",
    "We create histograms to visualize the distributions of text lengths for both the original and augmented text entries. This comparison highlights how the augmentation process has affected the overall length of the text data.\n"
   ]
  },
  {
   "cell_type": "markdown",
   "metadata": {},
   "source": [
    "## Sentiment Analysis of Augmented Text Data\n",
    "In this section, we perform sentiment analysis on the augmented text data using the `TextBlob` library. We calculate sentiment polarity scores, analyze the distribution of these scores, and visualize the sentiment distribution.\n"
   ]
  },
  {
   "cell_type": "code",
   "execution_count": 184,
   "metadata": {},
   "outputs": [],
   "source": [
    "# Importing necessary libraries\n",
    "import pandas as pd\n",
    "from textblob import TextBlob\n",
    "import matplotlib.pyplot as plt\n"
   ]
  },
  {
   "cell_type": "markdown",
   "metadata": {},
   "source": [
    "### Importing Necessary Libraries\n",
    "We import Pandas for data manipulation, `TextBlob` for sentiment analysis, and Matplotlib for plotting the sentiment distribution.\n"
   ]
  },
  {
   "cell_type": "code",
   "execution_count": 185,
   "metadata": {},
   "outputs": [],
   "source": [
    "# Function to get sentiment polarity\n",
    "def get_sentiment(text):\n",
    "    \"\"\"\n",
    "    Calculates the sentiment polarity of the given text using TextBlob.\n",
    "    Sentiment polarity ranges from -1 (negative) to 1 (positive).\n",
    "    \"\"\"\n",
    "    return TextBlob(text).sentiment.polarity\n"
   ]
  },
  {
   "cell_type": "markdown",
   "metadata": {},
   "source": [
    "### Sentiment Analysis Function\n",
    "We define a function `get_sentiment` that calculates the sentiment polarity of a given text. The sentiment polarity score ranges from -1 (indicating negative sentiment) to 1 (indicating positive sentiment).\n"
   ]
  },
  {
   "cell_type": "code",
   "execution_count": 186,
   "metadata": {},
   "outputs": [
    {
     "name": "stdout",
     "output_type": "stream",
     "text": [
      "                                                text                    area  \\\n",
      "0  I love Al Mike's. The restaurant is hidden in ...                  harrow   \n",
      "1  Love this place for its micro beers and spicy ...  hammersmith and fulham   \n",
      "2  Went for dinner and really enjoyed it.  It was...                  ealing   \n",
      "3  I haven't been to this place  in a VERY LONG t...                 bromley   \n",
      "4  Brevard Court is good for an inexpensive lunch...                  harrow   \n",
      "\n",
      "                                          clean_text  \\\n",
      "0  love al mike restaurant hidden beautiful first...   \n",
      "1  love place micro beer spicy crab soup london b...   \n",
      "2  went dinner really enjoyed thursday night plac...   \n",
      "3  havent place long time year ago regular spot r...   \n",
      "4  brevard court good inexpensive lunch nothing f...   \n",
      "\n",
      "                                      augmented_text  sentiment  \n",
      "0  love al mike restaurant hidden beautiful first...   0.297619  \n",
      "1  love place micro beer spicy crab soup london b...   0.435714  \n",
      "2  went dinner really enjoyed thursday night plac...   0.199278  \n",
      "3  havent place long time year ago regular spot r...   0.018290  \n",
      "4  brevard court good inexpensive lunch nothing f...   0.239683  \n"
     ]
    }
   ],
   "source": [
    "# Apply sentiment analysis to the augmented text data\n",
    "data['sentiment'] = data['augmented_text'].apply(get_sentiment)\n",
    "\n",
    "# Display the first few rows with sentiment scores\n",
    "print(data.head())\n"
   ]
  },
  {
   "cell_type": "markdown",
   "metadata": {},
   "source": [
    "### Applying Sentiment Analysis to the Dataset\n",
    "We apply the `get_sentiment` function to the `augmented_text` column of the dataset to calculate sentiment polarity scores. The resulting sentiment scores are stored in a new column `sentiment`, and the first few rows of the dataset are displayed to verify the results.\n"
   ]
  },
  {
   "cell_type": "code",
   "execution_count": 187,
   "metadata": {},
   "outputs": [
    {
     "name": "stdout",
     "output_type": "stream",
     "text": [
      "count    217.000000\n",
      "mean       0.178402\n",
      "std        0.170057\n",
      "min       -0.387500\n",
      "25%        0.076836\n",
      "50%        0.172817\n",
      "75%        0.285714\n",
      "max        1.000000\n",
      "Name: sentiment, dtype: float64\n"
     ]
    }
   ],
   "source": [
    "# Display basic statistics of sentiment scores\n",
    "print(data['sentiment'].describe())\n"
   ]
  },
  {
   "cell_type": "markdown",
   "metadata": {},
   "source": [
    "### Basic Statistics of Sentiment Scores\n",
    "We generate and display basic statistical summaries for the sentiment polarity scores, including the mean, standard deviation, and distribution percentiles.\n"
   ]
  },
  {
   "cell_type": "code",
   "execution_count": 188,
   "metadata": {},
   "outputs": [
    {
     "data": {
      "image/png": "[encoded data removed]",
      "text/plain": [
       "<Figure size 1000x600 with 1 Axes>"
      ]
     },
     "metadata": {},
     "output_type": "display_data"
    }
   ],
   "source": [
    "# Plot sentiment polarity distribution\n",
    "plt.figure(figsize=(10, 6))\n",
    "data['sentiment'].hist(bins=30)\n",
    "plt.title('Sentiment Polarity Distribution')\n",
    "plt.xlabel('Sentiment Polarity')\n",
    "plt.ylabel('Count')\n",
    "plt.show()\n"
   ]
  },
  {
   "cell_type": "markdown",
   "metadata": {},
   "source": [
    "### Plotting Sentiment Distribution\n",
    "We create a histogram to visualize the distribution of sentiment polarity scores across the augmented text data. This plot helps us understand the overall sentiment trends within the dataset.\n"
   ]
  },
  {
   "cell_type": "markdown",
   "metadata": {},
   "source": [
    "## Merging Sentiment Data with Housing Data\n",
    "In this section, we merge the aggregated sentiment data with the housing dataset based on area information. This merged dataset will allow us to analyze the relationship between sentiment and housing prices in different areas.\n"
   ]
  },
  {
   "cell_type": "code",
   "execution_count": 189,
   "metadata": {},
   "outputs": [],
   "source": [
    "# Importing necessary libraries\n",
    "import pandas as pd\n"
   ]
  },
  {
   "cell_type": "markdown",
   "metadata": {},
   "source": [
    "### Importing Necessary Libraries\n",
    "We import Pandas for data manipulation and merging datasets.\n"
   ]
  },
  {
   "cell_type": "code",
   "execution_count": 190,
   "metadata": {},
   "outputs": [],
   "source": [
    "# Load the housing dataset\n",
    "housing_data = pd.read_csv('5combined_data_with_outliers_handled.csv')\n"
   ]
  },
  {
   "cell_type": "markdown",
   "metadata": {},
   "source": [
    "### Loading the Housing Dataset\n",
    "We load the housing dataset, which has been previously processed to handle outliers. This dataset contains housing prices and other relevant features.\n"
   ]
  },
  {
   "cell_type": "code",
   "execution_count": 191,
   "metadata": {},
   "outputs": [],
   "source": [
    "# Aggregate sentiment data by area\n",
    "aggregated_sentiment = data.groupby('area')['sentiment'].mean().reset_index()\n"
   ]
  },
  {
   "cell_type": "markdown",
   "metadata": {},
   "source": [
    "### Aggregating Sentiment Data by Area\n",
    "We aggregate the sentiment data by area, calculating the mean sentiment polarity score for each area. This aggregated data will be merged with the housing dataset to explore potential correlations between sentiment and housing prices.\n"
   ]
  },
  {
   "cell_type": "code",
   "execution_count": 192,
   "metadata": {},
   "outputs": [],
   "source": [
    "# Merge the aggregated sentiment data with the housing data\n",
    "merged_data = pd.merge(housing_data, aggregated_sentiment, on='area', how='left')\n"
   ]
  },
  {
   "cell_type": "markdown",
   "metadata": {},
   "source": [
    "### Merging Sentiment Data with Housing Data\n",
    "We merge the aggregated sentiment data with the housing dataset using the `area` column as the key. This merge combines the housing prices with the average sentiment for each area, facilitating further analysis.\n"
   ]
  },
  {
   "cell_type": "code",
   "execution_count": 193,
   "metadata": {},
   "outputs": [
    {
     "name": "stdout",
     "output_type": "stream",
     "text": [
      "                   area  year  average_price  houses_sold  no_of_crimes  \\\n",
      "0  barking and dagenham  1999   65320.833333       2686.0           0.0   \n",
      "1  barking and dagenham  2000   77549.500000       2813.0           0.0   \n",
      "2  barking and dagenham  2001   88664.000000       3203.0       20476.0   \n",
      "3  barking and dagenham  2002  112221.916667       3449.0       20040.0   \n",
      "4  barking and dagenham  2003  142499.000000       3615.0       21085.0   \n",
      "\n",
      "        code        date  median_salary  life_satisfaction  mean_salary  \\\n",
      "0  E09000002  1999-01-12        21480.0              7.455      23620.0   \n",
      "1  E09000002  2000-01-12        22618.0              7.455      24696.0   \n",
      "2  E09000002  2001-01-12        22323.0              7.455      26050.0   \n",
      "3  E09000002  2002-01-12        24813.0              7.455      26653.0   \n",
      "4  E09000002  2003-01-12        25358.0              7.455      27792.0   \n",
      "\n",
      "   recycling_pct  population_size  number_of_jobs  area_size  no_of_houses  \\\n",
      "0            3.0         162444.0     64903.27772     3857.0       99926.5   \n",
      "1            4.0         163893.0     57000.00000     3857.0       99926.5   \n",
      "2            3.0         165654.0     54000.00000     3780.0       68298.0   \n",
      "3            3.0         166357.0     52000.00000     3780.0       68526.0   \n",
      "4            5.0         166210.0     55000.00000     3780.0       68837.0   \n",
      "\n",
      "   borough_flag  sentiment  \n",
      "0             1   0.152173  \n",
      "1             1   0.152173  \n",
      "2             1   0.152173  \n",
      "3             1   0.152173  \n",
      "4             1   0.152173  \n"
     ]
    }
   ],
   "source": [
    "# Save the merged dataset\n",
    "merged_data.to_csv('merged_housing_sentiment_data.csv', index=False)\n",
    "\n",
    "# Display the first few rows to verify the merge\n",
    "print(merged_data.head())\n"
   ]
  },
  {
   "cell_type": "markdown",
   "metadata": {},
   "source": [
    "### Saving and Verifying the Merged Dataset\n",
    "The merged dataset is saved to a CSV file for future analysis. We also display the first few rows of the merged dataset to verify that the merge was successful and that the sentiment data has been correctly integrated with the housing data.\n"
   ]
  }
 ],
 "metadata": {
  "kernelspec": {
   "display_name": "base",
   "language": "python",
   "name": "python3"
  },
  "language_info": {
   "codemirror_mode": {
    "name": "ipython",
    "version": 3
   },
   "file_extension": ".py",
   "mimetype": "text/x-python",
   "name": "python",
   "nbconvert_exporter": "python",
   "pygments_lexer": "ipython3",
   "version": "3.11.4"
  },
  "orig_nbformat": 4
 },
 "nbformat": 4,
 "nbformat_minor": 2
}
